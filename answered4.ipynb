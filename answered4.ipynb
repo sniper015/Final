{
 "cells": [
  {
   "cell_type": "code",
   "execution_count": 1,
   "metadata": {},
   "outputs": [],
   "source": [
    "#Detect Floating Point Number"
   ]
  },
  {
   "cell_type": "code",
   "execution_count": null,
   "metadata": {},
   "outputs": [],
   "source": [
    "import re\n",
    "for _ in range(int(input())):\n",
    "    print(re.search(r'^([-\\+])?\\d*\\.\\d+$', input())is not None)"
   ]
  },
  {
   "cell_type": "code",
   "execution_count": null,
   "metadata": {},
   "outputs": [],
   "source": [
    "#Map and Lambda Function"
   ]
  },
  {
   "cell_type": "code",
   "execution_count": null,
   "metadata": {},
   "outputs": [],
   "source": [
    "cube = lambda x:x**3 \n",
    "\n",
    "def fibonacci(n):\n",
    "    lis = [0,1]\n",
    "    for i in range(2,n):\n",
    "        lis.append(lis[i-2] + lis[i-1])\n",
    "    return(lis[0:n])\n",
    "\n",
    "if __name__ == '__main__':\n",
    "    n = int(input())\n",
    "    print(list(map(cube, fibonacci(n))))"
   ]
  },
  {
   "cell_type": "code",
   "execution_count": null,
   "metadata": {},
   "outputs": [],
   "source": [
    "#Re.split()"
   ]
  },
  {
   "cell_type": "code",
   "execution_count": null,
   "metadata": {},
   "outputs": [],
   "source": [
    "regex_pattern = r\"[.,]+\"\t# Do not delete 'r'.\n",
    "\n",
    "import re\n",
    "print(\"\\n\".join(re.split(regex_pattern, input())))"
   ]
  },
  {
   "cell_type": "code",
   "execution_count": null,
   "metadata": {},
   "outputs": [],
   "source": [
    "#Validating Email Addresses With a Filter"
   ]
  },
  {
   "cell_type": "code",
   "execution_count": null,
   "metadata": {},
   "outputs": [],
   "source": [
    "def fun(s):\n",
    "    try:\n",
    "        username,url = s.split(\"@\")\n",
    "        website,extension = url.split(\".\")\n",
    "    except ValueError:\n",
    "        return False\n",
    "    if username.replace(\"-\",\"\").replace(\"_\",\"\").isalnum() is False:\n",
    "        return False\n",
    "    elif  website.isalnum() is False:\n",
    "        return False\n",
    "    elif len(extension) >3:\n",
    "        return False\n",
    "    else:\n",
    "        return True\n",
    "            \n",
    "\n",
    "def filter_mail(emails):\n",
    "    return list(filter(fun, emails))\n",
    "\n",
    "if __name__ == '__main__':\n",
    "    n = int(input())\n",
    "    emails = []\n",
    "    for _ in range(n):\n",
    "        emails.append(input())\n",
    "\n",
    "filtered_emails = filter_mail(emails)\n",
    "filtered_emails.sort()\n",
    "print(filtered_emails)"
   ]
  },
  {
   "cell_type": "code",
   "execution_count": null,
   "metadata": {},
   "outputs": [],
   "source": [
    "#Group(), Groups() & Groupdict()"
   ]
  },
  {
   "cell_type": "code",
   "execution_count": null,
   "metadata": {},
   "outputs": [],
   "source": [
    "import re\n",
    "m = re.search(r\"([A-Za-z0-9])\\1\",input())\n",
    "print(m.group(1) if m else -1)\n"
   ]
  },
  {
   "cell_type": "code",
   "execution_count": null,
   "metadata": {},
   "outputs": [],
   "source": [
    "#Reduce Function"
   ]
  },
  {
   "cell_type": "code",
   "execution_count": null,
   "metadata": {},
   "outputs": [],
   "source": [
    "from fractions import Fraction\n",
    "from functools import reduce\n",
    "import operator\n",
    "\n",
    "def product(fracs):\n",
    "    t = reduce(operator.mul,fracs)\n",
    "    return t.numerator, t.denominator\n",
    "\n",
    "if __name__ == '__main__':\n",
    "    fracs = []\n",
    "    for _ in range(int(input())):\n",
    "        fracs.append(Fraction(*map(int, input().split())))\n",
    "    result = product(fracs)\n",
    "    print(*result)"
   ]
  },
  {
   "cell_type": "code",
   "execution_count": null,
   "metadata": {},
   "outputs": [],
   "source": [
    "#Re.findall() & Re.finditer()"
   ]
  },
  {
   "cell_type": "code",
   "execution_count": null,
   "metadata": {},
   "outputs": [],
   "source": [
    "Storage = re.findall(r'(?<=[qwrtypsdfghjklzxcvbnm])([aeiou]{2,})(?=[qwrtypsdfghjklzxcvbnm])', input().strip(), re.IGNORECASE)\n",
    "\n",
    "if Storage:\n",
    "    for i in Storage:\n",
    "        print(i)\n",
    "else:\n",
    "    print(-1)\n"
   ]
  },
  {
   "cell_type": "code",
   "execution_count": null,
   "metadata": {},
   "outputs": [],
   "source": [
    "#Re.start() & Re.end()"
   ]
  },
  {
   "cell_type": "code",
   "execution_count": null,
   "metadata": {},
   "outputs": [],
   "source": [
    "import re\n",
    "m = input()\n",
    "n = input()\n",
    "pattern = re.compile(n)\n",
    "b = pattern.search(m)\n",
    "if not b:print(\"-1,-1\")\n",
    "while b:\n",
    "    print('({} , {})'.format(b.start,b.end-1))\n",
    "    b = pattern.search(m,b.start+1)\n",
    "    \n",
    "        "
   ]
  },
  {
   "cell_type": "code",
   "execution_count": null,
   "metadata": {},
   "outputs": [],
   "source": [
    "#Regex Substitution"
   ]
  },
  {
   "cell_type": "code",
   "execution_count": null,
   "metadata": {},
   "outputs": [],
   "source": [
    "import re\n",
    "def change(match):\n",
    "    if match.group()=='&&':\n",
    "       return \"and\"\n",
    "    else:\n",
    "        return \"or\"\n",
    "for _ in range(int(input())):\n",
    "    print(re.sub(r\"(?<=)(/|/||&&)(?=)\", change, input())) "
   ]
  },
  {
   "cell_type": "code",
   "execution_count": null,
   "metadata": {},
   "outputs": [],
   "source": [
    "#Validating Roman Numerals"
   ]
  },
  {
   "cell_type": "code",
   "execution_count": null,
   "metadata": {},
   "outputs": [],
   "source": [
    "thousands = 'M{0,3}'\n",
    "hundred ='(CM|CD|D?C{0,3})'\n",
    "tens = '(XC|XL|L?X{0,3})' \n",
    "digits = 'IX|IV|V?I{0,3}'\n",
    "regex_pattern = r\"%s%s%s%s$\" %(thousands,hundred,tens,digits)\t\n",
    "\n",
    "import re\n",
    "print(str(bool(re.match(regex_pattern, input()))))"
   ]
  },
  {
   "cell_type": "code",
   "execution_count": null,
   "metadata": {},
   "outputs": [],
   "source": [
    "#Validating phone numbers"
   ]
  },
  {
   "cell_type": "code",
   "execution_count": null,
   "metadata": {},
   "outputs": [],
   "source": [
    "import re\n",
    "n = int(input())\n",
    "\n",
    "for i in range(n):\n",
    "    if len(re.findall(r\"^[7-9]\\d{9}$\", input().strip()))!=0:\n",
    "        print(\"Yes\") \n",
    "    else:\n",
    "         print(\"No\") \n"
   ]
  },
  {
   "cell_type": "code",
   "execution_count": null,
   "metadata": {},
   "outputs": [],
   "source": [
    "#Validating and Parsing Email Addresses"
   ]
  },
  {
   "cell_type": "code",
   "execution_count": null,
   "metadata": {},
   "outputs": [],
   "source": [
    "import re\n",
    "pattern = r'^<[A-Za-z](\\w|-|\\.|_)+@[A-Za-z]+\\.[A-Za-z]{1,3}>$'\n",
    "for _ in range(int(input())):\n",
    "    name, email = input().split(' ')\n",
    "    if re.match(pattern, email):\n",
    "        print(name, email)"
   ]
  },
  {
   "cell_type": "code",
   "execution_count": null,
   "metadata": {},
   "outputs": [],
   "source": [
    "#Hex Color Code"
   ]
  },
  {
   "cell_type": "code",
   "execution_count": null,
   "metadata": {},
   "outputs": [],
   "source": [
    "import re, sys\n",
    "N = int(input())\n",
    "for _ in range(N):\n",
    "    line = input().strip()\n",
    "    codes = [j for j in re.findall('[\\s:](#[a-f0-9]{6}|#[a-f0-9]{3})[\\s:;,)]', line, re.I)]\n",
    "    for code in codes:\n",
    "        print(code)"
   ]
  },
  {
   "cell_type": "code",
   "execution_count": null,
   "metadata": {},
   "outputs": [],
   "source": [
    "#HTML Parser - Part 1"
   ]
  },
  {
   "cell_type": "code",
   "execution_count": null,
   "metadata": {},
   "outputs": [],
   "source": [
    "import re\n",
    "from html.parser import HTMLParser\n",
    "\n",
    "class MyHTMLParser(HTMLParser):\n",
    "    def handle_starttag(self, tag, attrs):\n",
    "        print (\"Start :\", tag)\n",
    "        self.value(attrs)\n",
    "\n",
    "    def handle_endtag(self, tag):\n",
    "        print (\"End   :\", tag)\n",
    "\n",
    "    def handle_startendtag(self, tag, attrs):\n",
    "        print (\"Empty :\", tag)\n",
    "        self.value(attrs)\n",
    "\n",
    "    def value(self, attrs = None):\n",
    "        if attrs:\n",
    "            [print('->', attr, '>', val) for attr, val, in attrs]\n",
    "\n",
    "ss = '\\n'.join([input() for x in range(int(input()))])\n",
    "parser = MyHTMLParser()\n",
    "parser.feed(ss)\n"
   ]
  },
  {
   "cell_type": "code",
   "execution_count": null,
   "metadata": {},
   "outputs": [],
   "source": [
    "#HTML Parser - Part 2"
   ]
  },
  {
   "cell_type": "code",
   "execution_count": null,
   "metadata": {},
   "outputs": [],
   "source": [
    "from html.parser import HTMLParser\n",
    "\n",
    "class MyHTMLParser(HTMLParser):\n",
    "    def handle_comment(self, data):\n",
    "        if (len(data.split('\\n')) != 1):\n",
    "            print(\">>> Multi-line Comment\")\n",
    "        else:\n",
    "            print(\">>> Single-line Comment\")\n",
    "        print(data.replace(\"\\r\", \"\\n\"))\n",
    "    def handle_data(self, data):\n",
    "        if data.strip():\n",
    "            print(\">>> Data\")\n",
    "            print(data)\n",
    "  "
   ]
  },
  {
   "cell_type": "code",
   "execution_count": null,
   "metadata": {},
   "outputs": [],
   "source": [
    "#Detect HTML Tags, Attributes and Attribute Values"
   ]
  },
  {
   "cell_type": "code",
   "execution_count": null,
   "metadata": {},
   "outputs": [],
   "source": [
    "from html.parser import HTMLParser\n",
    "\n",
    "class MyHTMLParser(HTMLParser):\n",
    "    def handle_starttag(self, tag, attrs):\n",
    "        print(tag)\n",
    "        for attr, value in attrs:\n",
    "            print(\"->\", attr, \">\", value)\n",
    "\n",
    "    def handle_startendtag(self, tag, attrs):\n",
    "        print(tag)\n",
    "        for attr, value in attrs:\n",
    "            print(\"->\", attr, \">\", value)\n",
    "\n",
    "html = ''\n",
    "for _ in range(int(input())):\n",
    "    html += input().rstrip() + '\\n'\n",
    "\n",
    "parser = MyHTMLParser()\n",
    "parser.feed(html)\n",
    "parser.close()\n"
   ]
  },
  {
   "cell_type": "code",
   "execution_count": null,
   "metadata": {},
   "outputs": [],
   "source": [
    "#Validating UID"
   ]
  },
  {
   "cell_type": "code",
   "execution_count": null,
   "metadata": {},
   "outputs": [],
   "source": [
    "import re\n",
    "\n",
    "for i in range(int(input())):\n",
    "    N = input().strip()\n",
    "    if N.isalnum() and len(N) == 10:\n",
    "        if bool(re.search(r'(.*[A-Z]){2,}',N)) and bool(re.search(r'(.*[0-9]){3,}',N)):\n",
    "            if re.search(r'.*(.).*\\1+.*',N):\n",
    "                print('Invalid')\n",
    "            else:\n",
    "                print('Valid')\n",
    "        else:\n",
    "            print('Invalid')\n",
    "    else:\n",
    "        print('Invalid')\n"
   ]
  },
  {
   "cell_type": "code",
   "execution_count": null,
   "metadata": {},
   "outputs": [],
   "source": [
    "#Validating Credit Card Numbers"
   ]
  },
  {
   "cell_type": "code",
   "execution_count": null,
   "metadata": {},
   "outputs": [],
   "source": [
    "import re\n",
    "for i in range(int(input())):\n",
    "    S = input().strip()\n",
    "    pre_match = re.search(r'^[456]\\d{3}(-?)\\d{4}\\1\\d{4}\\1\\d{4}$',S)\n",
    "    if pre_match:\n",
    "        processed_string = \"\".join(pre_match.group(0).split('-'))\n",
    "        final_match = re.search(r'(\\d)\\1{3,}',processed_string)\n",
    "        if final_match:\n",
    "            print('Invalid')\n",
    "        else :\n",
    "            print('Valid')\n",
    "    else:\n",
    "        print('Invalid')"
   ]
  },
  {
   "cell_type": "code",
   "execution_count": null,
   "metadata": {},
   "outputs": [],
   "source": [
    "#Validating Postal Codes"
   ]
  },
  {
   "cell_type": "code",
   "execution_count": null,
   "metadata": {},
   "outputs": [],
   "source": [
    "regex_integer_in_range = r\"^[1-9][\\d]{5}$\"    # Do not delete 'r'.\n",
    "regex_alternating_repetitive_digit_pair = r\"(\\d)(?=\\d\\1)\"    # Do not delete 'r'.\n",
    "\n",
    "\n",
    "import re\n",
    "P = input()\n",
    "\n",
    "print (bool(re.match(regex_integer_in_range, P)) \n",
    "and len(re.findall(regex_alternating_repetitive_digit_pair, P)) < 2)"
   ]
  },
  {
   "cell_type": "code",
   "execution_count": null,
   "metadata": {},
   "outputs": [],
   "source": [
    "#Matrix Script"
   ]
  },
  {
   "cell_type": "code",
   "execution_count": null,
   "metadata": {},
   "outputs": [],
   "source": [
    "\n",
    "\n",
    "import math\n",
    "import os\n",
    "import random\n",
    "import re\n",
    "import sys\n",
    "\n",
    "\n",
    "\n",
    "\n",
    "first_multiple_input = input().rstrip().split()\n",
    "\n",
    "n = int(first_multiple_input[0])\n",
    "\n",
    "m = int(first_multiple_input[1])\n",
    "\n",
    "matrix = []\n",
    "\n",
    "for _ in range(n):\n",
    "    matrix_item = input()\n",
    "    matrix.append(matrix_item)\n",
    "matrix = list(zip(*matrix))\n",
    "\n",
    "sample = str()\n",
    "\n",
    "for words in matrix:\n",
    "    for char in words:\n",
    "        sample += char\n",
    "       \n",
    "print(re.sub(r'(?<=\\w)([^\\w\\d]+)(?=\\w)', ' ', sample))"
   ]
  },
  {
   "cell_type": "code",
   "execution_count": null,
   "metadata": {},
   "outputs": [],
   "source": []
  }
 ],
 "metadata": {
  "kernelspec": {
   "display_name": "Python 3",
   "language": "python",
   "name": "python3"
  },
  "language_info": {
   "codemirror_mode": {
    "name": "ipython",
    "version": 3
   },
   "file_extension": ".py",
   "mimetype": "text/x-python",
   "name": "python",
   "nbconvert_exporter": "python",
   "pygments_lexer": "ipython3",
   "version": "3.7.1"
  }
 },
 "nbformat": 4,
 "nbformat_minor": 2
}
